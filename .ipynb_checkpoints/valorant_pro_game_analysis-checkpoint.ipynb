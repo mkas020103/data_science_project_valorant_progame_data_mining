{
 "cells": [
  {
   "cell_type": "markdown",
   "id": "e8ab151b-4d7e-4d86-8f1f-ea78a72da512",
   "metadata": {
    "jp-MarkdownHeadingCollapsed": true
   },
   "source": [
    "# Call classes"
   ]
  },
  {
   "cell_type": "code",
   "execution_count": null,
   "id": "a6159ca5-db17-4bd8-a940-67e53dd0e7d9",
   "metadata": {},
   "outputs": [],
   "source": [
    "from data_mining import integration"
   ]
  },
  {
   "cell_type": "markdown",
   "id": "0158e9ef-593e-4626-b72e-80d9b07dc635",
   "metadata": {
    "jp-MarkdownHeadingCollapsed": true
   },
   "source": [
    "# Integration Process\n",
    "#### This part contains the integration process by calling the integration class (note should only be called once, but if accidentally run, we built an error handler.)"
   ]
  },
  {
   "cell_type": "code",
   "execution_count": null,
   "id": "e65b086f-08db-41c9-84cd-a2e2f6f6904d",
   "metadata": {},
   "outputs": [],
   "source": [
    "x = integration('valorant_games.csv')\n",
    "x.create_table_load_data('valorant.db')"
   ]
  },
  {
   "cell_type": "markdown",
   "id": "09f53290-7dbd-4a40-ad7a-61538f65dc5b",
   "metadata": {
    "jp-MarkdownHeadingCollapsed": true
   },
   "source": [
    "# Selection Processes\n",
    "#### This part contains all the call from the database using a class"
   ]
  },
  {
   "cell_type": "code",
   "execution_count": null,
   "id": "0e3051f1-c176-4c67-83d5-efc3d7ff42ea",
   "metadata": {},
   "outputs": [],
   "source": []
  },
  {
   "cell_type": "markdown",
   "id": "8cb7f81f-7cb7-4cd5-a35b-46093be61f34",
   "metadata": {
    "jp-MarkdownHeadingCollapsed": true
   },
   "source": [
    "# Visualization or Knowledge Presentation\n",
    "#### This part contains all the visualization or presentation of pattern seen in the data"
   ]
  },
  {
   "cell_type": "code",
   "execution_count": null,
   "id": "3fb3a290-db20-4b93-b474-529e9b833e03",
   "metadata": {},
   "outputs": [],
   "source": []
  }
 ],
 "metadata": {
  "kernelspec": {
   "display_name": "Python 3 (ipykernel)",
   "language": "python",
   "name": "python3"
  },
  "language_info": {
   "codemirror_mode": {
    "name": "ipython",
    "version": 3
   },
   "file_extension": ".py",
   "mimetype": "text/x-python",
   "name": "python",
   "nbconvert_exporter": "python",
   "pygments_lexer": "ipython3",
   "version": "3.11.6"
  }
 },
 "nbformat": 4,
 "nbformat_minor": 5
}
